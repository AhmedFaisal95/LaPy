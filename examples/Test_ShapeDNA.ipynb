{
 "cells": [
  {
   "cell_type": "code",
   "execution_count": null,
   "metadata": {},
   "outputs": [],
   "source": [
    "# Freesurfer 6.0 needs to be sourced prior to starting this server / notebook\n",
    "import os\n",
    "FS_HOME = os.getenv(\"FREESURFER_HOME\")\n",
    "SUB_DIR = os.getenv(\"SUBJECTS_DIR\")\n",
    "OUT_DIR = os.getcwd()"
   ]
  },
  {
   "cell_type": "code",
   "execution_count": null,
   "metadata": {},
   "outputs": [],
   "source": [
    "from lapy import ShapeDNA"
   ]
  },
  {
   "cell_type": "code",
   "execution_count": null,
   "metadata": {},
   "outputs": [],
   "source": [
    "# we will be using one of the Freesurfer-provided MR images, and compute the \n",
    "# ShapeDNA descriptor for the left hippocampus (aseg id 17). We will use a \n",
    "# subdirectory of the current directory as output directory, since the \n",
    "# Freesurfer directory will not necessarily have write access\n",
    "OUT_DIR_1 = os.path.join(OUT_DIR, \"test_1\")\n",
    "ShapeDNA.compute_ShapeDNA(sid=\"bert\", sdir=SUB_DIR, outdir=OUT_DIR_1, asegid=[\"17\"])"
   ]
  },
  {
   "cell_type": "code",
   "execution_count": null,
   "metadata": {},
   "outputs": [],
   "source": [
    "# we will be using one of the Freesurfer-provided MR images, and compute the \n",
    "# ShapeDNA descriptor for the left white matter surface. \n",
    "# We will use a subdirectory of the current directory as output directory, \n",
    "# since the Freesurfer directory will not necessarily have write access.\n",
    "OUT_DIR_2 = os.path.join(OUT_DIR, \"test_2\")\n",
    "SURF_FILE = os.path.join(SUB_DIR, \"bert\", \"surf\", \"lh.white\")\n",
    "ShapeDNA.compute_ShapeDNA(sid=\"bert\", sdir=SUB_DIR, outdir=OUT_DIR_2, surf=SURF_FILE)"
   ]
  }
 ],
 "metadata": {
  "kernelspec": {
   "display_name": "Python 3",
   "language": "python",
   "name": "python3"
  },
  "language_info": {
   "codemirror_mode": {
    "name": "ipython",
    "version": 3
   },
   "file_extension": ".py",
   "mimetype": "text/x-python",
   "name": "python",
   "nbconvert_exporter": "python",
   "pygments_lexer": "ipython3",
   "version": "3.7.3"
  }
 },
 "nbformat": 4,
 "nbformat_minor": 4
}
